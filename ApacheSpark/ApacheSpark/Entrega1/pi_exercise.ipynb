{
 "cells": [
  {
   "cell_type": "markdown",
   "metadata": {
    "application/vnd.databricks.v1+cell": {
     "inputWidgets": {},
     "nuid": "334690c6-fec9-49d0-ab93-0188ae56b8fd",
     "showTitle": false,
     "title": ""
    }
   },
   "source": [
    "# Exercise\n",
    "\n",
    "Compute Pi using the following expression:\n",
    "\t\t$$ \\pi = \\sqrt{6 + \\frac{6}{2^2} + \\frac{6}{3^2} + \\ldots} = \\sqrt{\\sum_{i=1}^{n}\\frac{6}{i^2}} $$\n",
    "        \n",
    "The code should have:\n",
    "1. Initialization: create an array of **n** elements [1, 2, ..., n] (i.e., range(n)).\n",
    "2. Map: apply a lambda function that computes 1/i^2 for all the elements of the previous array.\n",
    "3. Reduce: sum all the elements.\n",
    "4. Final step: multiply by 6 and then calculate the square root."
   ]
  },
  {
   "cell_type": "code",
   "execution_count": 1,
   "metadata": {
    "application/vnd.databricks.v1+cell": {
     "inputWidgets": {},
     "nuid": "bac48130-a548-4aff-9797-2ca418ec052f",
     "showTitle": false,
     "title": ""
    }
   },
   "outputs": [
    {
     "name": "stdout",
     "output_type": "stream",
     "text": [
      "3.1414971543976242\n"
     ]
    }
   ],
   "source": [
    "import pyspark\n",
    "from math import sqrt\n",
    "num_samples = 10000\n",
    "\n",
    "spark_context = pyspark.SparkContext(appName=\"Pi\")\n",
    "rdd1 = spark_context.parallelize(range(1, num_samples))\n",
    "rdd2=rdd1.map(lambda x: 1/x**2)\n",
    "rdd3=rdd2.reduce(lambda a, b: a + b)\n",
    "pi_result = sqrt(6*rdd3)\n",
    "print(pi_result)"
   ]
  }
 ],
 "metadata": {
  "application/vnd.databricks.v1+notebook": {
   "dashboards": [],
   "language": "python",
   "notebookMetadata": {
    "pythonIndentUnit": 2
   },
   "notebookName": "pi_exercise_solution",
   "notebookOrigID": 2518593715535564,
   "widgets": {}
  },
  "kernelspec": {
   "display_name": "Python 3",
   "language": "python",
   "name": "python3"
  },
  "language_info": {
   "codemirror_mode": {
    "name": "ipython",
    "version": 3
   },
   "file_extension": ".py",
   "mimetype": "text/x-python",
   "name": "python",
   "nbconvert_exporter": "python",
   "pygments_lexer": "ipython3",
   "version": "3.11.9"
  }
 },
 "nbformat": 4,
 "nbformat_minor": 0
}
