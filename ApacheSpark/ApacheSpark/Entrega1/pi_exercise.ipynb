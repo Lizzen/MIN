{
 "cells": [
  {
   "cell_type": "markdown",
   "source": [
    "# Exercise\n\nCompute Pi using the following expression:\n\t\t$$ \\pi = \\sqrt{6 + \\frac{6}{2^2} + \\frac{6}{3^2} + \\ldots} = \\sqrt{\\sum_{i=1}^{n}\\frac{6}{i^2}} $$\n        \nThe code should have:\n1. Initialization: create an array of **n** elements [1, 2, ..., n] (i.e., range(n)).\n2. Map: apply a lambda function that computes 1/i^2 for all the elements of the previous array.\n3. Reduce: sum all the elements.\n4. Final step: multiply by 6 and then calculate the square root."
   ],
   "metadata": {
    "application/vnd.databricks.v1+cell": {
     "title": "",
     "showTitle": false,
     "inputWidgets": {},
     "nuid": "334690c6-fec9-49d0-ab93-0188ae56b8fd"
    }
   }
  },
  {
   "cell_type": "code",
   "source": [
    "import pyspark\n",
    "from math import sqrt\n",
    "num_samples = 10000\n",
    "\n",
    "spark_context = pyspark.SparkContext(appName=\"Pi\")\n",
    "rdd1 = spark_context.parallelize(range(1, num_samples))"
   ],
   "metadata": {
    "application/vnd.databricks.v1+cell": {
     "title": "",
     "showTitle": false,
     "inputWidgets": {},
     "nuid": "bac48130-a548-4aff-9797-2ca418ec052f"
    }
   },
   "outputs": [],
   "execution_count": 0
  },
  {
   "cell_type": "code",
   "source": [
    "#Map\nrdd2=rdd1.map(lambda x: 1/x**2)"
   ],
   "metadata": {
    "application/vnd.databricks.v1+cell": {
     "title": "",
     "showTitle": false,
     "inputWidgets": {},
     "nuid": "29d4aeeb-e438-443a-a8a5-d52a33d03857"
    }
   },
   "outputs": [],
   "execution_count": 0
  },
  {
   "cell_type": "code",
   "source": [
    "#Reduce\nrdd3=rdd2.reduce(lambda a, b: a + b)"
   ],
   "metadata": {
    "application/vnd.databricks.v1+cell": {
     "title": "",
     "showTitle": false,
     "inputWidgets": {},
     "nuid": "2958d9ef-dc74-430a-a8b6-cb866977e7c5"
    }
   },
   "outputs": [],
   "execution_count": 0
  },
  {
   "cell_type": "code",
   "source": [
    "#map\npi_result = sqrt(6*rdd3)\nprint(pi_result)"
   ],
   "metadata": {
    "application/vnd.databricks.v1+cell": {
     "title": "",
     "showTitle": false,
     "inputWidgets": {},
     "nuid": "f9678a86-e0d3-43be-9940-d66b392c875e"
    }
   },
   "outputs": [
    {
     "output_type": "display_data",
     "metadata": {
      "application/vnd.databricks.v1+output": {
       "datasetInfos": [],
       "data": "3.141497154397623\n",
       "removedWidgets": [],
       "addedWidgets": {},
       "metadata": {},
       "type": "ansi",
       "arguments": {}
      }
     },
     "data": {
      "text/plain": [
       "3.141497154397623\n"
      ]
     },
     "transient": null
    }
   ],
   "execution_count": 0
  }
 ],
 "metadata": {
  "application/vnd.databricks.v1+notebook": {
   "notebookName": "pi_exercise_solution",
   "dashboards": [],
   "notebookMetadata": {
    "pythonIndentUnit": 2
   },
   "language": "python",
   "widgets": {},
   "notebookOrigID": 2518593715535564
  }
 },
 "nbformat": 4,
 "nbformat_minor": 0
}
