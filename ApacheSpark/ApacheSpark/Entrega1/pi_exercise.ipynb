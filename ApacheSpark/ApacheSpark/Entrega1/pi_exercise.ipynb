{
  "cells": [
    {
      "cell_type": "markdown",
      "metadata": {
        "application/vnd.databricks.v1+cell": {
          "cellMetadata": {
            "byteLimit": 2048000,
            "rowLimit": 10000
          },
          "inputWidgets": {},
          "nuid": "334690c6-fec9-49d0-ab93-0188ae56b8fd",
          "showTitle": false,
          "tableResultSettingsMap": {},
          "title": ""
        },
        "id": "f6sAbX1S3T9J"
      },
      "source": [
        "# Exercise\n",
        "\n",
        "Compute Pi using the following expression:\n",
        "\t\t$$ \\pi = \\sqrt{6 + \\frac{6}{2^2} + \\frac{6}{3^2} + \\ldots} = \\sqrt{\\sum_{i=1}^{n}\\frac{6}{i^2}} $$\n",
        "        \n",
        "The code should have:\n",
        "1. Initialization: create an array of **n** elements [1, 2, ..., n] (i.e., range(n)).\n",
        "2. Map: apply a lambda function that computes 1/i^2 for all the elements of the previous array.\n",
        "3. Reduce: sum all the elements.\n",
        "4. Final step: multiply by 6 and then calculate the square root."
      ]
    },
    {
      "cell_type": "markdown",
      "metadata": {},
      "source": [
        "David Ferreras Díaz y Sergio Vázquez Carbajo "
      ]
    },
    {
      "cell_type": "code",
      "execution_count": 1,
      "metadata": {
        "application/vnd.databricks.v1+cell": {
          "cellMetadata": {
            "byteLimit": 2048000,
            "rowLimit": 10000
          },
          "inputWidgets": {},
          "nuid": "bca4d0ba-e985-4431-abbf-1f1f7e2ac31b",
          "showTitle": false,
          "tableResultSettingsMap": {},
          "title": ""
        },
        "colab": {
          "base_uri": "https://localhost:8080/"
        },
        "id": "P2JfmG3t3T9L",
        "outputId": "f24349c0-2426-4661-93b7-21479f1af700"
      },
      "outputs": [
        {
          "name": "stdout",
          "output_type": "stream",
          "text": [
            "3.14159264498239\n"
          ]
        }
      ],
      "source": [
        "import numpy as np\n",
        "from functools import reduce\n",
        "\n",
        "def PiAproximation(n):\n",
        "    datos=np.array(range(1,n)) #1\n",
        "    datos= map(lambda x: (1/x**2), datos) #2\n",
        "    ret=reduce(lambda a,b: a+b, datos) #3\n",
        "    ret=(ret*6)**(1/2) #4\n",
        "    return ret\n",
        "\n",
        "print(PiAproximation(100000000))\n"
      ]
    }
  ],
  "metadata": {
    "application/vnd.databricks.v1+notebook": {
      "computePreferences": null,
      "dashboards": [],
      "environmentMetadata": null,
      "language": "python",
      "notebookMetadata": {
        "pythonIndentUnit": 2
      },
      "notebookName": "pi_exercise",
      "widgets": {}
    },
    "colab": {
      "provenance": []
    },
    "kernelspec": {
      "display_name": "Python 3",
      "name": "python3"
    },
    "language_info": {
      "codemirror_mode": {
        "name": "ipython",
        "version": 3
      },
      "file_extension": ".py",
      "mimetype": "text/x-python",
      "name": "python",
      "nbconvert_exporter": "python",
      "pygments_lexer": "ipython3",
      "version": "3.11.9"
    }
  },
  "nbformat": 4,
  "nbformat_minor": 0
}
