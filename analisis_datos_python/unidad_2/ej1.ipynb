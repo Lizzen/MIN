{
  "cells": [
    {
      "cell_type": "markdown",
      "metadata": {
        "id": "YElR4P66zjEq"
      },
      "source": [
        "<div id=\"navegacion\" prev=\"../Tema_4/t4_funciones_02_pdi.html\"\n",
        "                     next=\"../Ejercicios_Tema_3/ej2.html\"></div>\n",
        "\n",
        "<div class=\"section-title\">Sección 2.8</div>"
      ]
    },
    {
      "cell_type": "markdown",
      "metadata": {
        "id": "NCyH4SqdzjEr"
      },
      "source": [
        "# Ejercicios"
      ]
    },
    {
      "cell_type": "markdown",
      "metadata": {
        "id": "y-kFg4bGzjEs"
      },
      "source": [
        "## Ejercicio 1"
      ]
    },
    {
      "cell_type": "markdown",
      "metadata": {
        "id": "FFhoIO_EzjEs"
      },
      "source": [
        "Escribe el código Python que representa la siguiente expresión:\n",
        "\n",
        "$$\\frac{3}{4} + 2 * ( 5^4 - \\frac{1}{2} )$$\n",
        "\n"
      ]
    },
    {
      "cell_type": "code",
      "execution_count": null,
      "metadata": {
        "ExecuteTime": {
          "end_time": "2018-10-25T15:59:07.388026Z",
          "start_time": "2018-10-25T15:59:07.384037Z"
        },
        "colab": {
          "base_uri": "https://localhost:8080/"
        },
        "id": "eM6WTiFBzjEs",
        "outputId": "ab86785f-fe00-47c4-a678-63ba97a86525"
      },
      "outputs": [
        {
          "output_type": "execute_result",
          "data": {
            "text/plain": [
              "1249.75"
            ]
          },
          "metadata": {},
          "execution_count": 2
        }
      ],
      "source": [
        "# Sol:\n",
        "3 / 4 + 2 * (5**4 - 1/ 2)\n",
        "\n"
      ]
    },
    {
      "cell_type": "markdown",
      "metadata": {
        "id": "0n1isXeRzjEs"
      },
      "source": [
        "Escribe una función en Python llamada __valor_expresion__ que calcule el valor de la expresión:\n",
        "\n",
        "$$\\frac{3}{4} + 2 * ( x^4 - \\frac{1}{2} )$$\n",
        "\n",
        "para un cierto valor de $x$. La función tiene un único argumento posicional de tipo numérico y devuelve el resultado de aplicar la expresión anterior."
      ]
    },
    {
      "cell_type": "code",
      "execution_count": null,
      "metadata": {
        "ExecuteTime": {
          "end_time": "2018-10-25T15:59:09.517334Z",
          "start_time": "2018-10-25T15:59:09.513371Z"
        },
        "id": "R96pTlGWzjEs"
      },
      "outputs": [],
      "source": [
        "# Sol\n",
        "def valor_expresion(x):\n",
        "      potencia = x**4\n",
        "      res = 3/4 + 2 * (potencia - 1/2)\n",
        "      return res"
      ]
    },
    {
      "cell_type": "markdown",
      "metadata": {
        "id": "vmt3Z5t8zjEt"
      },
      "source": [
        "Ejecuta la función __valor_expresion__ para los valores 5 y 3.\n",
        "\n",
        "__Nota:__\n",
        "\n",
        "* `valor_expresion(5)` devuelve como resultado `1249.75`\n",
        "* `valor_expresion(3)` devuelve como resultado `161.75`"
      ]
    },
    {
      "cell_type": "code",
      "execution_count": null,
      "metadata": {
        "ExecuteTime": {
          "end_time": "2019-01-04T10:24:09.904689Z",
          "start_time": "2019-01-04T10:24:09.901714Z"
        },
        "colab": {
          "base_uri": "https://localhost:8080/"
        },
        "id": "EuDtBuuwzjEt",
        "outputId": "b344ced9-e5a6-4098-fe24-cbef64cbabcd"
      },
      "outputs": [
        {
          "output_type": "stream",
          "name": "stdout",
          "text": [
            "1249.75\n"
          ]
        },
        {
          "output_type": "execute_result",
          "data": {
            "text/plain": [
              "161.75"
            ]
          },
          "metadata": {},
          "execution_count": 14
        }
      ],
      "source": [
        "# Sol\n",
        "result = valor_expresion(5)\n",
        "print (result)\n",
        "result = valor_expresion(3)\n",
        "result"
      ]
    },
    {
      "cell_type": "markdown",
      "metadata": {
        "id": "kuTsUjbbzjEt"
      },
      "source": [
        "## Ejercicio 2"
      ]
    },
    {
      "cell_type": "markdown",
      "metadata": {
        "id": "22dpULOCzjEt"
      },
      "source": [
        "Define una función llamada __raiz_cubica__ que devuelva el valor de $\\sqrt[3]{x}$. Recuerda que  $\\sqrt[3]{x}$ = ${x}^{\\frac{1}{3}}$\n"
      ]
    },
    {
      "cell_type": "markdown",
      "metadata": {
        "id": "XAUuuewJzjEt"
      },
      "source": [
        "__Nota:__\n",
        "\n",
        "* `raiz_cubica(5)` devuelve como resultado `1.7099759466766968`"
      ]
    },
    {
      "cell_type": "code",
      "execution_count": null,
      "metadata": {
        "ExecuteTime": {
          "end_time": "2019-01-04T10:26:28.819954Z",
          "start_time": "2019-01-04T10:26:28.816978Z"
        },
        "id": "0H_oBuxtzjEt"
      },
      "outputs": [],
      "source": [
        "# Sol:\n",
        "def raiz_cubica(x):\n",
        "  res = x**(1/3)\n",
        "  return res"
      ]
    },
    {
      "cell_type": "code",
      "source": [
        "result = raiz_cubica(5)\n",
        "result"
      ],
      "metadata": {
        "colab": {
          "base_uri": "https://localhost:8080/"
        },
        "id": "oZxHknGb3Zsy",
        "outputId": "087f1f65-90ce-4ef1-8fd7-6a07be1b16d3"
      },
      "execution_count": null,
      "outputs": [
        {
          "output_type": "execute_result",
          "data": {
            "text/plain": [
              "1.7099759466766968"
            ]
          },
          "metadata": {},
          "execution_count": 18
        }
      ]
    },
    {
      "cell_type": "markdown",
      "metadata": {
        "id": "dO39KfdtzjEt"
      },
      "source": [
        "## Ejercicio 3"
      ]
    },
    {
      "cell_type": "markdown",
      "metadata": {
        "id": "O1x1TJIazjEt"
      },
      "source": [
        "Escribe una función llamada __pertenencia__ que reciba dos parámetros de entrada. El primer parámetro es una lista de elementos y el segundo es un elemento. La función devuelve el valor `True` si el elemento se encuentra en la lista. En otro caso devuelve `False`.\n",
        "\n",
        "* Puedes usar la instrucción `if-else`\n",
        "* Puedes usar la función `in` para saber si un elemento está en una secuencia\n",
        "\n",
        "__Nota:__\n",
        "\n",
        "* `pertenencia([1, 3, 6], 1)` devuelve el valor `True`\n",
        "* `pertenencia([1, 3, 6], 5)` devuelve el valor `False`\n",
        "* `pertenencia([1,'Hi', 6, 'Hola'] , 'Hola')` devuelve el valor `True`"
      ]
    },
    {
      "cell_type": "code",
      "execution_count": null,
      "metadata": {
        "ExecuteTime": {
          "end_time": "2019-01-04T10:38:06.252994Z",
          "start_time": "2019-01-04T10:38:06.249525Z"
        },
        "id": "3J0MaTJkzjEt"
      },
      "outputs": [],
      "source": [
        "# Sol:\n",
        "def pertenencia(x, y):\n",
        "  res = y in x\n",
        "  return res"
      ]
    },
    {
      "cell_type": "code",
      "source": [
        "result = pertenencia([1, 3, 6], 1)\n",
        "print (result)\n",
        "result = pertenencia([1, 3, 6], 5)\n",
        "print (result)\n",
        "result = pertenencia([1,'Hi', 6, 'Hola'] , 'Hola')\n",
        "result"
      ],
      "metadata": {
        "colab": {
          "base_uri": "https://localhost:8080/"
        },
        "id": "yLmFcE9d5BxD",
        "outputId": "2819bc3c-3373-4ee1-e111-fef768d15eb3"
      },
      "execution_count": null,
      "outputs": [
        {
          "output_type": "stream",
          "name": "stdout",
          "text": [
            "True\n",
            "False\n"
          ]
        },
        {
          "output_type": "execute_result",
          "data": {
            "text/plain": [
              "True"
            ]
          },
          "metadata": {},
          "execution_count": 25
        }
      ]
    },
    {
      "cell_type": "markdown",
      "metadata": {
        "id": "sLqN70ouzjEu"
      },
      "source": [
        "## Ejercicio 4"
      ]
    },
    {
      "cell_type": "markdown",
      "metadata": {
        "id": "DRySvhJHzjEu"
      },
      "source": [
        "La función `upper` del tipo string (`str`) genera una nueva cadena de caracteres, donde todos los caracteres son mayúsculas.\n",
        "Ejecuta la siguente celda para ver el efecto de la función `upper` al aplicarlo sobre la cadena `s`:"
      ]
    },
    {
      "cell_type": "code",
      "execution_count": null,
      "metadata": {
        "ExecuteTime": {
          "end_time": "2019-01-04T11:16:22.586710Z",
          "start_time": "2019-01-04T11:16:22.579263Z"
        },
        "colab": {
          "base_uri": "https://localhost:8080/",
          "height": 35
        },
        "id": "Kk47zVYrzjEu",
        "outputId": "0a40f998-68c0-4f9e-c2cb-e8a6a9dadc6a"
      },
      "outputs": [
        {
          "output_type": "execute_result",
          "data": {
            "text/plain": [
              "'HOLA, ME LLAMO IÑIGO MONTOYA, TÚ MATASTE A MI PADRE. ... PREPÁRATE A MORIR'"
            ],
            "application/vnd.google.colaboratory.intrinsic+json": {
              "type": "string"
            }
          },
          "metadata": {},
          "execution_count": 26
        }
      ],
      "source": [
        "s = 'Hola, me llamo Iñigo Montoya, tú mataste a mi padre. ... Prepárate a morir'\n",
        "s.upper()"
      ]
    },
    {
      "cell_type": "markdown",
      "metadata": {
        "id": "vWSFBMQ4zjEu"
      },
      "source": [
        "Fíjate que `upper` no modifica la cadena (las cadenas son inmutables), sino que devuelve otra cadena diferente."
      ]
    },
    {
      "cell_type": "code",
      "execution_count": null,
      "metadata": {
        "ExecuteTime": {
          "end_time": "2019-01-04T11:16:23.544953Z",
          "start_time": "2019-01-04T11:16:23.539992Z"
        },
        "colab": {
          "base_uri": "https://localhost:8080/",
          "height": 35
        },
        "id": "EU25LM_RzjEv",
        "outputId": "ce484c5c-1325-46e5-b41f-825a904bbbd8"
      },
      "outputs": [
        {
          "output_type": "execute_result",
          "data": {
            "text/plain": [
              "'Hola, me llamo Iñigo Montoya, tú mataste a mi padre. ... Prepárate a morir'"
            ],
            "application/vnd.google.colaboratory.intrinsic+json": {
              "type": "string"
            }
          },
          "metadata": {},
          "execution_count": 27
        }
      ],
      "source": [
        "s    # la cadena s no cambia de valor"
      ]
    },
    {
      "cell_type": "markdown",
      "metadata": {
        "id": "eBNiSYZCzjEv"
      },
      "source": [
        "Para guardar el resultado de `upper` usamos la asignación:"
      ]
    },
    {
      "cell_type": "code",
      "execution_count": null,
      "metadata": {
        "ExecuteTime": {
          "end_time": "2019-01-04T11:16:24.597465Z",
          "start_time": "2019-01-04T11:16:24.593001Z"
        },
        "id": "oh-ChznGzjEv"
      },
      "outputs": [],
      "source": [
        "t = s.upper()"
      ]
    },
    {
      "cell_type": "markdown",
      "metadata": {
        "id": "qyNFb2njzjEv"
      },
      "source": [
        "Podemos  preguntar por el contenido de `t`:"
      ]
    },
    {
      "cell_type": "code",
      "execution_count": null,
      "metadata": {
        "ExecuteTime": {
          "end_time": "2019-01-04T11:16:32.364884Z",
          "start_time": "2019-01-04T11:16:32.360423Z"
        },
        "colab": {
          "base_uri": "https://localhost:8080/",
          "height": 35
        },
        "id": "6wyd_c51zjEv",
        "outputId": "3059a628-8f16-468e-b5ad-765957346103"
      },
      "outputs": [
        {
          "output_type": "execute_result",
          "data": {
            "text/plain": [
              "'HOLA, ME LLAMO IÑIGO MONTOYA, TÚ MATASTE A MI PADRE. ... PREPÁRATE A MORIR'"
            ],
            "application/vnd.google.colaboratory.intrinsic+json": {
              "type": "string"
            }
          },
          "metadata": {},
          "execution_count": 29
        }
      ],
      "source": [
        "t"
      ]
    },
    {
      "cell_type": "markdown",
      "metadata": {
        "id": "MMFdKhPkzjEv"
      },
      "source": [
        "* Genera una cadena `t`  igual que  `s`  pero en minúsculas (función `lower`). Calcula la longitud de `t`.\n",
        "* Ejecuta la función  `split(',')`. Fíjate en lo que devuelve esa función.\n",
        "* Ejecuta la función  `title()`.\n",
        "* Ejecuta la función  `replace(' ', '_')`. Fíjate en lo que devuelve esa función.\n",
        "* Ejecuta `dir(str)` para listar las funciones disponibles para trabajar con cadenas."
      ]
    },
    {
      "cell_type": "code",
      "execution_count": null,
      "metadata": {
        "colab": {
          "base_uri": "https://localhost:8080/"
        },
        "id": "z6mDNNUbzjEv",
        "outputId": "a23e544c-1270-4594-91ed-b6aa2b644573"
      },
      "outputs": [
        {
          "output_type": "stream",
          "name": "stdout",
          "text": [
            "74\n",
            "['hola', ' me llamo iñigo montoya', ' tú mataste a mi padre. ... prepárate a morir']\n",
            "Hola, Me Llamo Iñigo Montoya, Tú Mataste A Mi Padre. ... Prepárate A Morir\n",
            "hola,_me_llamo_iñigo_montoya,_tú_mataste_a_mi_padre._..._prepárate_a_morir\n"
          ]
        },
        {
          "output_type": "execute_result",
          "data": {
            "text/plain": [
              "['__add__',\n",
              " '__class__',\n",
              " '__contains__',\n",
              " '__delattr__',\n",
              " '__dir__',\n",
              " '__doc__',\n",
              " '__eq__',\n",
              " '__format__',\n",
              " '__ge__',\n",
              " '__getattribute__',\n",
              " '__getitem__',\n",
              " '__getnewargs__',\n",
              " '__getstate__',\n",
              " '__gt__',\n",
              " '__hash__',\n",
              " '__init__',\n",
              " '__init_subclass__',\n",
              " '__iter__',\n",
              " '__le__',\n",
              " '__len__',\n",
              " '__lt__',\n",
              " '__mod__',\n",
              " '__mul__',\n",
              " '__ne__',\n",
              " '__new__',\n",
              " '__reduce__',\n",
              " '__reduce_ex__',\n",
              " '__repr__',\n",
              " '__rmod__',\n",
              " '__rmul__',\n",
              " '__setattr__',\n",
              " '__sizeof__',\n",
              " '__str__',\n",
              " '__subclasshook__',\n",
              " 'capitalize',\n",
              " 'casefold',\n",
              " 'center',\n",
              " 'count',\n",
              " 'encode',\n",
              " 'endswith',\n",
              " 'expandtabs',\n",
              " 'find',\n",
              " 'format',\n",
              " 'format_map',\n",
              " 'index',\n",
              " 'isalnum',\n",
              " 'isalpha',\n",
              " 'isascii',\n",
              " 'isdecimal',\n",
              " 'isdigit',\n",
              " 'isidentifier',\n",
              " 'islower',\n",
              " 'isnumeric',\n",
              " 'isprintable',\n",
              " 'isspace',\n",
              " 'istitle',\n",
              " 'isupper',\n",
              " 'join',\n",
              " 'ljust',\n",
              " 'lower',\n",
              " 'lstrip',\n",
              " 'maketrans',\n",
              " 'partition',\n",
              " 'removeprefix',\n",
              " 'removesuffix',\n",
              " 'replace',\n",
              " 'rfind',\n",
              " 'rindex',\n",
              " 'rjust',\n",
              " 'rpartition',\n",
              " 'rsplit',\n",
              " 'rstrip',\n",
              " 'split',\n",
              " 'splitlines',\n",
              " 'startswith',\n",
              " 'strip',\n",
              " 'swapcase',\n",
              " 'title',\n",
              " 'translate',\n",
              " 'upper',\n",
              " 'zfill']"
            ]
          },
          "metadata": {},
          "execution_count": 41
        }
      ],
      "source": [
        "# Sol:\n",
        "t = s.lower()\n",
        "n = len(t)\n",
        "print(n)\n",
        "n = t.split(',')\n",
        "print(n)\n",
        "n = t.title()\n",
        "print(n)\n",
        "n = t.replace(' ', '_')\n",
        "print(n)\n",
        "dir(t)\n"
      ]
    },
    {
      "cell_type": "markdown",
      "metadata": {
        "id": "ZZ87IvIZzjEv"
      },
      "source": [
        "--------------------"
      ]
    }
  ],
  "metadata": {
    "anaconda-cloud": {},
    "kernelspec": {
      "display_name": "Python 3",
      "language": "python",
      "name": "python3"
    },
    "language_info": {
      "codemirror_mode": {
        "name": "ipython",
        "version": 3
      },
      "file_extension": ".py",
      "mimetype": "text/x-python",
      "name": "python",
      "nbconvert_exporter": "python",
      "pygments_lexer": "ipython3",
      "version": "3.6.6"
    },
    "nbTranslate": {
      "displayLangs": [
        "en",
        "es"
      ],
      "hotkey": "alt-t",
      "langInMainMenu": true,
      "sourceLang": "es",
      "targetLang": "en",
      "useGoogleTranslate": true
    },
    "toc": {
      "nav_menu": {
        "height": "86px",
        "width": "252px"
      },
      "number_sections": true,
      "sideBar": true,
      "skip_h1_title": false,
      "title_cell": "Table of Contents",
      "title_sidebar": "Contents",
      "toc_cell": false,
      "toc_position": {},
      "toc_section_display": "block",
      "toc_window_display": false
    },
    "colab": {
      "provenance": []
    }
  },
  "nbformat": 4,
  "nbformat_minor": 0
}