{
  "cells": [
    {
      "cell_type": "markdown",
      "metadata": {
        "id": "WM-FueJ07GIs"
      },
      "source": [
        "<div id=\"navegacion\" prev=\"../Ejercicios_Tema_2/ej1.html\"\n",
        "                     next=\"\"></div>\n",
        "\n",
        "<div class=\"section-title\">Sección 2.9</div>"
      ]
    },
    {
      "cell_type": "markdown",
      "metadata": {
        "id": "vZwiS4B27GIs"
      },
      "source": [
        "#  Ejercicios"
      ]
    },
    {
      "cell_type": "markdown",
      "metadata": {
        "id": "huM22OaG7GIt"
      },
      "source": [
        "##  Ejercicio 1"
      ]
    },
    {
      "cell_type": "markdown",
      "metadata": {
        "id": "vYmCudXG7GIt"
      },
      "source": [
        "Dada la lista L = [ 'a', 'b', 'c', 4, 5, 6, 7, 8, 9 ], escribe expresiones en Python que produzcan los siguientes resultados:\n",
        "\n",
        "1. El primer elemento de la lista.\n",
        "2. El último elemento de la lista (Sin conocer la longitud de la lista).\n",
        "3. La sublista con los dos últimos elementos.\n",
        "4. La sublista de los elementos que ocupan posiciones pares.\n",
        "4. La sublista de los elementos que ocupan posiciones impares."
      ]
    },
    {
      "cell_type": "code",
      "execution_count": null,
      "metadata": {
        "ExecuteTime": {
          "end_time": "2018-10-25T16:05:07.107351Z",
          "start_time": "2018-10-25T16:05:07.102366Z"
        },
        "colab": {
          "base_uri": "https://localhost:8080/",
          "height": 35
        },
        "id": "o6K1hQWq7GIt",
        "outputId": "7a0379bf-0ed3-4403-e9cb-b267a3a3c8e9"
      },
      "outputs": [
        {
          "output_type": "execute_result",
          "data": {
            "text/plain": [
              "'a'"
            ],
            "application/vnd.google.colaboratory.intrinsic+json": {
              "type": "string"
            }
          },
          "metadata": {},
          "execution_count": 2
        }
      ],
      "source": [
        "# Sol 1: 'a'\n",
        "L = [ 'a', 'b', 'c', 4, 5, 6, 7, 8, 9 ]\n",
        "L[0]"
      ]
    },
    {
      "cell_type": "code",
      "execution_count": null,
      "metadata": {
        "colab": {
          "base_uri": "https://localhost:8080/"
        },
        "id": "2tXvk9Vm7GIt",
        "outputId": "e272bb0c-a8a3-436e-e656-1b2db2f9a163"
      },
      "outputs": [
        {
          "output_type": "execute_result",
          "data": {
            "text/plain": [
              "9"
            ]
          },
          "metadata": {},
          "execution_count": 4
        }
      ],
      "source": [
        "# Sol 2: 9\n",
        "L[len(L) - 1]"
      ]
    },
    {
      "cell_type": "code",
      "execution_count": null,
      "metadata": {
        "colab": {
          "base_uri": "https://localhost:8080/"
        },
        "id": "VNwlLnjl7GIt",
        "outputId": "d2384bb6-f899-45d4-e036-65029f6efde0"
      },
      "outputs": [
        {
          "output_type": "execute_result",
          "data": {
            "text/plain": [
              "[8, 9]"
            ]
          },
          "metadata": {},
          "execution_count": 6
        }
      ],
      "source": [
        "# Sol 3: [8,9]\n",
        "n = len(L)\n",
        "L[n - 2: n]"
      ]
    },
    {
      "cell_type": "code",
      "execution_count": null,
      "metadata": {
        "colab": {
          "base_uri": "https://localhost:8080/"
        },
        "id": "9xjSodLT7GIt",
        "outputId": "02f5e000-cfda-4eca-c9ea-e65e6a795b1d"
      },
      "outputs": [
        {
          "output_type": "execute_result",
          "data": {
            "text/plain": [
              "['a', 'c', 5, 7, 9]"
            ]
          },
          "metadata": {},
          "execution_count": 7
        }
      ],
      "source": [
        "# Sol 4:  [ 'a',  'c', 5,  7,  9 ]\n",
        "L[::2]"
      ]
    },
    {
      "cell_type": "code",
      "execution_count": null,
      "metadata": {
        "ExecuteTime": {
          "end_time": "2018-10-25T16:05:13.741616Z",
          "start_time": "2018-10-25T16:05:13.736631Z"
        },
        "colab": {
          "base_uri": "https://localhost:8080/"
        },
        "id": "Vefo09rt7GIt",
        "outputId": "a5ca9aa7-ef97-4247-cc06-77b514825d51"
      },
      "outputs": [
        {
          "output_type": "execute_result",
          "data": {
            "text/plain": [
              "['b', 4, 6, 8]"
            ]
          },
          "metadata": {},
          "execution_count": 14
        }
      ],
      "source": [
        "# Sol 5:  [ 'b', 4, 6, 8 ]\n",
        "L[1::2]"
      ]
    },
    {
      "cell_type": "markdown",
      "metadata": {
        "id": "VzLd_9eP7GIt"
      },
      "source": [
        "## Ejercicio 2"
      ]
    },
    {
      "cell_type": "markdown",
      "metadata": {
        "id": "oB-5uBN37GIu"
      },
      "source": [
        "Dado una lista de importes, queremos calcular el % de IVA (por ejemplo 21%) de cada importe. Construye una función llamada `calcular_iva` que reciba como parámetros de entrada una lista de valores numéricos y el % de  IVA a aplicar (valor mayor que 0 y menor que 100). La función devuelve una nueva lista de valores numéricos donde cada valor es el resultado de calcular el % de IVA a los valores de la lista original.\n",
        "\n",
        "Puedes construir la lista resultado de la función mediante *definición por comprensión*.\n",
        "\n",
        "__Nota:__\n",
        "\n",
        "* `calcular_iva([100], 21)`  devuelve como resultado la lista `[21.0]`\n",
        "* `calcular_iva([100, 1000, 200, 150], 21)` devuelve como resultado la lista `[21.0, 210.0, 42.0, 31.5]`\n",
        "* `calcular_iva([100, 1000, 200, 150], 4)` devuelve como resultado la lista `[4.0, 40.0, 8.0, 6.0]`"
      ]
    },
    {
      "cell_type": "code",
      "execution_count": null,
      "metadata": {
        "ExecuteTime": {
          "end_time": "2019-01-04T11:20:34.692386Z",
          "start_time": "2019-01-04T11:20:34.688417Z"
        },
        "id": "nZZLQzJM7GIu"
      },
      "outputs": [],
      "source": [
        "# Sol:\n",
        "def calcular_iva(x, y):\n",
        "  res= []\n",
        "  for n in x:\n",
        "    iva = n * y /100\n",
        "    res.append(iva)\n",
        "  return res"
      ]
    },
    {
      "cell_type": "code",
      "source": [
        "result = calcular_iva([100], 21)\n",
        "print(result)\n",
        "result = calcular_iva([100, 1000, 200, 150], 21)\n",
        "print(result)\n",
        "result = calcular_iva([100, 1000, 200, 150], 4)\n",
        "print(result)"
      ],
      "metadata": {
        "colab": {
          "base_uri": "https://localhost:8080/"
        },
        "id": "yoEONUrg-bVE",
        "outputId": "3f5a59b1-25bf-470d-a175-a5286a6c7a05"
      },
      "execution_count": null,
      "outputs": [
        {
          "output_type": "stream",
          "name": "stdout",
          "text": [
            "[21.0]\n",
            "[21.0, 210.0, 42.0, 31.5]\n",
            "[4.0, 40.0, 8.0, 6.0]\n"
          ]
        }
      ]
    },
    {
      "cell_type": "markdown",
      "metadata": {
        "id": "cpEmb_x_7GIu"
      },
      "source": [
        "## Ejercicio 3\n",
        "\n",
        "Los primeros 5 términos de una sucesión son:\n",
        "\n",
        "```\n",
        "[3, 8, 13, 18, 23]\n",
        "```\n",
        "\n",
        "Define una función llamada `sucesion` que reciba un número entero positivo `n` como argumento y genere la lista de los `n` primeros términos de la sucesión. Resuelve el problema aplicando la fórmula $a_n = 3 + 5 * (n-1)$.\n",
        "\n",
        "Puedes construir la lista resultado de la función mediante *definición por comprensión*.\n",
        "\n",
        "__Nota:__\n",
        "\n",
        "* Genera primero los n primeros números comenzando por el 1 y utilizando la función __range__.\n",
        "\n",
        "\n"
      ]
    },
    {
      "cell_type": "code",
      "execution_count": null,
      "metadata": {
        "ExecuteTime": {
          "end_time": "2019-01-04T11:24:31.646807Z",
          "start_time": "2019-01-04T11:24:31.643337Z"
        },
        "id": "C2eBOFGW7GIu"
      },
      "outputs": [],
      "source": [
        "# Sol:\n",
        "def sucesion(n):\n",
        "  res = []\n",
        "  for x in range(0, n):\n",
        "    op = 3 + 5 * (x-1)\n",
        "    res.append(op)"
      ]
    },
    {
      "cell_type": "markdown",
      "metadata": {
        "id": "GLr6K4B67GIu"
      },
      "source": [
        "## Ejercicio 4\n",
        "\n",
        "Dado el diccionario de las ciudades más pobladas de Italia __ciudades__:\n",
        "\n",
        "d =  { 1: 'Roma', 2: 'Milán', 3:'Nápoles', 4:'Turín', 5:'Palermo' ,6: 'Génova',\n",
        "      7:'Bolonia', 8:'Florencia', 9:'Bari', 10:'Catania'}\n",
        "      \n",
        "y la lista __pob__ que contiene información de la cantidad de población en cada ciudad:\n",
        "\n",
        "pob =  [2718768, 1299633, 973132, 908263, 663173, 610887, 372256, 364710, 322511, 298957]\n",
        "\n",
        "Crea un nuevo diccionario donde cada elemento sea de la forma\n",
        "\n",
        "__i: [ciudad,poblacion]__\n",
        "\n",
        "Puedes construir el diccionario mediante *definición por comprensión*."
      ]
    },
    {
      "cell_type": "code",
      "execution_count": null,
      "metadata": {
        "ExecuteTime": {
          "end_time": "2019-01-04T11:24:34.831338Z",
          "start_time": "2019-01-04T11:24:34.824393Z"
        },
        "id": "-vQVeL1Z7GIu",
        "colab": {
          "base_uri": "https://localhost:8080/"
        },
        "outputId": "10952e56-c874-4733-eef0-b8d0cffc1389"
      },
      "outputs": [
        {
          "output_type": "execute_result",
          "data": {
            "text/plain": [
              "{'Roma': 2718768,\n",
              " 'Milán': 1299633,\n",
              " 'Nápoles': 973132,\n",
              " 'Turín': 908263,\n",
              " 'Palermo': 663173,\n",
              " 'Génova': 610887,\n",
              " 'Bolonia': 372256,\n",
              " 'Florencia': 364710,\n",
              " 'Bari': 322511,\n",
              " 'Catania': 298957}"
            ]
          },
          "metadata": {},
          "execution_count": 11
        }
      ],
      "source": [
        "pob = [2718768, 1299633, 973132, 908263, 663173, 610887, 372256, 364710,\n",
        "       322511, 298957]\n",
        "d = { 1: 'Roma', 2: 'Milán', 3:'Nápoles', 4:'Turín', 5:'Palermo' ,\n",
        "     6: 'Génova',   \\\n",
        "      7:'Bolonia', 8:'Florencia', 9:'Bari', 10:'Catania'}\n",
        "# Sol\n",
        "dic = { }\n",
        "for x in range(1, 11):\n",
        "  dic[d[x]] = pob[x-1]\n",
        "dic"
      ]
    },
    {
      "cell_type": "markdown",
      "metadata": {
        "id": "dTLZ5Fog7GIu"
      },
      "source": [
        "-------------------"
      ]
    }
  ],
  "metadata": {
    "anaconda-cloud": {},
    "kernelspec": {
      "display_name": "Python 3",
      "language": "python",
      "name": "python3"
    },
    "language_info": {
      "codemirror_mode": {
        "name": "ipython",
        "version": 3
      },
      "file_extension": ".py",
      "mimetype": "text/x-python",
      "name": "python",
      "nbconvert_exporter": "python",
      "pygments_lexer": "ipython3",
      "version": "3.6.6"
    },
    "nbTranslate": {
      "displayLangs": [
        "en",
        "es"
      ],
      "hotkey": "alt-t",
      "langInMainMenu": true,
      "sourceLang": "es",
      "targetLang": "en",
      "useGoogleTranslate": true
    },
    "toc": {
      "nav_menu": {
        "height": "161px",
        "width": "252px"
      },
      "number_sections": true,
      "sideBar": true,
      "skip_h1_title": false,
      "title_cell": "Table of Contents",
      "title_sidebar": "Contents",
      "toc_cell": false,
      "toc_position": {},
      "toc_section_display": "block",
      "toc_window_display": false
    },
    "colab": {
      "provenance": []
    }
  },
  "nbformat": 4,
  "nbformat_minor": 0
}