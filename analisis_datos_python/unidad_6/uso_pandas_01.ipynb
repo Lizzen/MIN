{
  "cells": [
    {
      "cell_type": "markdown",
      "metadata": {
        "id": "GJv0no2x5MiF"
      },
      "source": [
        "\n",
        "<div id=\"navegacion\" prev=\"../Ejercicios_Tema_7/ej6.html\" next=\"\"></div>\n",
        "\n",
        "<div class=\"section-title\">Sección 6.5</div>"
      ]
    },
    {
      "cell_type": "markdown",
      "metadata": {
        "id": "_WMZZSwx5MiG"
      },
      "source": [
        "#  Movilens 1M"
      ]
    },
    {
      "cell_type": "markdown",
      "metadata": {
        "id": "FQ4esdSa5MiH"
      },
      "source": [
        "\n",
        "Movilens Dataset recoge datos de 6000 usuarios y 4000  películas. La información se distribuye en 3 tablas.\n",
        "\n",
        "- [ratings.dat](./ml-1m/ratings.dat) - El fichero recoge datos de valoraciones  de los usuarios. Las columnas son: Usuario, MovieID, Puntuación, Fecha.\n",
        "\n",
        "- [movies.dat](./ml-1m/movies.dat) - Datos de las películas. Las columnas son: MovieID, Titulo, Género\n",
        "- [users.dat](./ml-1m/users.dat) - Datos personales de los usuarios. Las columnas son: Usuario, Sexo, Edad, Ocupación, ZipCode.\n",
        "\n",
        "\n",
        "Toda esta información se utiliza con mucha frecuencia en los sistemas de recomendación que aplican algoritmos de aprendizaje.\n",
        "La información del contenido de los ficheros la puedes encontrar en el enlace [README](./ml-1m/README).\n"
      ]
    },
    {
      "cell_type": "markdown",
      "metadata": {
        "id": "HbnGKS575MiH"
      },
      "source": [
        "## Importar datos"
      ]
    },
    {
      "cell_type": "markdown",
      "metadata": {
        "id": "ekYAR5-55MiI"
      },
      "source": [
        "Crear un DataFrame para cada uno de los ficheros.  Usar la función `head()` para visualizar los primeros datos.\n",
        "El fichero ratings tiene un campo de tipo fecha. Usa el parámetro `parse_dates` para cargar de forma adecuada las fechas."
      ]
    },
    {
      "cell_type": "code",
      "execution_count": null,
      "metadata": {
        "ExecuteTime": {
          "end_time": "2018-10-29T11:18:56.651038Z",
          "start_time": "2018-10-29T11:18:56.638638Z"
        },
        "colab": {
          "base_uri": "https://localhost:8080/"
        },
        "id": "BDhuF2-d5MiI",
        "outputId": "34457984-717e-47aa-a3c5-5f01f928a3a1"
      },
      "outputs": [
        {
          "output_type": "stream",
          "name": "stdout",
          "text": [
            "Ratings: \n",
            "    Usuario  MovieID  Puntuación               Fecha\n",
            "0     1139      377           4 2000-11-22 08:29:17\n",
            "1     1524     3857           4 2000-11-20 19:57:23\n",
            "2     4823     2987           3 2000-07-09 00:25:18\n",
            "3      336     2105           5 2000-12-09 12:38:32\n",
            "4     5131     1752           2 2000-06-27 20:32:25\n",
            "\n",
            "Movies:\n",
            "    MovieID                              Titulo                        Género\n",
            "0        1                    Toy Story (1995)   Animation|Children's|Comedy\n",
            "1        2                      Jumanji (1995)  Adventure|Children's|Fantasy\n",
            "2        3             Grumpier Old Men (1995)                Comedy|Romance\n",
            "3        4            Waiting to Exhale (1995)                  Comedy|Drama\n",
            "4        5  Father of the Bride Part II (1995)                        Comedy\n",
            "\n",
            "Users:\n",
            "    Usuario Sexo  Edad  Ocupación ZipCode\n",
            "0        1    F     1         10   48067\n",
            "1        2    M    56         16   70072\n",
            "2        3    M    25         15   55117\n",
            "3        4    M    45          7   02460\n",
            "4        5    M    25         20   55455\n"
          ]
        }
      ],
      "source": [
        "# Sol:\n",
        "import pandas as pd\n",
        "\n",
        "ratings = pd.read_csv('ratings.dat', delimiter=':', names=['Usuario', 'MovieID', 'Puntuación', 'Fecha'], parse_dates=['Fecha'], engine='python')\n",
        "\n",
        "movies = pd.read_csv('movies.dat', delimiter=':', names=['MovieID', 'Titulo', 'Género'], engine='python')\n",
        "\n",
        "users = pd.read_csv('users.dat', delimiter=':', names=['Usuario', 'Sexo', 'Edad', 'Ocupación', 'ZipCode'], engine='python')\n",
        "\n",
        "print('Ratings: \\n', ratings.head())\n",
        "print('\\nMovies:\\n', movies.head())\n",
        "print('\\nUsers:\\n', users.head())\n"
      ]
    },
    {
      "cell_type": "markdown",
      "metadata": {
        "id": "OCNE2fcg5MiJ"
      },
      "source": [
        "## Valoraciones de X-Men"
      ]
    },
    {
      "cell_type": "markdown",
      "metadata": {
        "id": "IwCdcHv_5MiJ"
      },
      "source": [
        "Los usuarios valoran las películas con valores del 1 al 5 donde el 1 es la peor puntuación y 5 es la mejor. La puntuación es una variable categórica. Calcula el número de votos de cada tipo (la frecuencia de votos) de la película con título `X-Men (2000)`.\n",
        "\n"
      ]
    },
    {
      "cell_type": "code",
      "execution_count": null,
      "metadata": {
        "colab": {
          "base_uri": "https://localhost:8080/"
        },
        "id": "9ac9kpHK5MiJ",
        "outputId": "871fabcc-93e7-4a37-c0bb-6cd15d2ebd59"
      },
      "outputs": [
        {
          "output_type": "stream",
          "name": "stdout",
          "text": [
            "Puntuación\n",
            "2    1\n",
            "3    2\n",
            "4    4\n",
            "5    3\n",
            "Name: count, dtype: int64\n"
          ]
        }
      ],
      "source": [
        "# Sol:\n",
        "xmen_id = movies[movies[\"Titulo\"] == \"X-Men (2000)\"][\"MovieID\"].values[0]\n",
        "\n",
        "xmen_ratings = ratings[ratings[\"MovieID\"] == xmen_id]\n",
        "\n",
        "print(xmen_ratings[\"Puntuación\"].value_counts().sort_index())\n"
      ]
    },
    {
      "cell_type": "markdown",
      "metadata": {
        "collapsed": true,
        "id": "Xw0cxIrq5MiJ"
      },
      "source": [
        "## Puntuación media"
      ]
    },
    {
      "cell_type": "markdown",
      "source": [],
      "metadata": {
        "id": "IOMwI2UIJB6R"
      }
    },
    {
      "cell_type": "markdown",
      "metadata": {
        "id": "I0ftEXF15MiJ"
      },
      "source": [
        "Calcula la puntuación media  de cada película por sexo del usuario. Diseña una función llamada `puntuacion_media` que devuelve un Dataframe donde el índice es el título de la película y las columnaa son 'F' y 'M' (Female y Male respectivamente).\n",
        "\n",
        "__Nota__:\n",
        "\n",
        "Hay varias formas de hacerlo. Aquí os dejo alguna sugerencia:\n",
        "* Necesitamos combinar las tres tablas ya que tenemos, por un lado las valoraciones, por otro el título de la película y por otro el sexo de los usuarios. La operación `merge` te permitirá realizar la  combinación.\n",
        "    * Combina primero las valoraciones con las peliculas por el campo 'id_peli'.\n",
        "    * Combina el resultado anterior con los usuarios por el campo 'id_usuario'.\n",
        "    \n",
        "* Una vez combinadas las tres tablas en una sola tabla:\n",
        "    * solución 1:  Agrupar por `id_peli` y por `sexo` del usuario. La función de agregación es la media `mean()`. Para obtener la tabla pedida utiliza `unstack` para deshacer el multi índice.\n",
        "    * solución 2: Consulta la ayuda de la función `pivot_table`. Utiliza la función `pivot_table`. Merece la pena que intentéis resolverlo también utilizando esta opción.\n"
      ]
    },
    {
      "cell_type": "code",
      "execution_count": null,
      "metadata": {
        "collapsed": true,
        "colab": {
          "base_uri": "https://localhost:8080/"
        },
        "id": "IBnTKYPV5MiJ",
        "outputId": "70ce2db9-cda9-4700-e848-d47615bb1db8"
      },
      "outputs": [
        {
          "output_type": "stream",
          "name": "stdout",
          "text": [
            "Sexo                                     F         M\n",
            "Titulo                                              \n",
            "$1,000,000 Duck (1971)                 3.0       NaN\n",
            "'Til There Was You (1997)              NaN  1.000000\n",
            "'burbs, The (1989)                     1.0  2.000000\n",
            "...And Justice for All (1979)          NaN  4.333333\n",
            "10 Things I Hate About You (1999)      4.2  4.500000\n",
            "...                                    ...       ...\n",
            "Young Poisoner's Handbook, The (1995)  NaN  3.000000\n",
            "Young Sherlock Holmes (1985)           NaN  3.666667\n",
            "Your Friends and Neighbors (1998)      NaN  4.000000\n",
            "Zed & Two Noughts, A (1985)            NaN  1.000000\n",
            "eXistenZ (1999)                        3.0  2.000000\n",
            "\n",
            "[2301 rows x 2 columns]\n"
          ]
        }
      ],
      "source": [
        "# Sol:\n",
        "def puntuacion_media():\n",
        "  df = ratings.merge(movies, on=\"MovieID\")\n",
        "\n",
        "  df = df.merge(users, on=\"Usuario\")\n",
        "\n",
        "  return df.pivot_table(values=\"Puntuación\", index=\"Titulo\", columns=\"Sexo\", aggfunc=\"mean\")\n",
        "\n",
        "print(puntuacion_media())"
      ]
    }
  ],
  "metadata": {
    "anaconda-cloud": {},
    "kernelspec": {
      "display_name": "Python 3",
      "language": "python",
      "name": "python3"
    },
    "language_info": {
      "codemirror_mode": {
        "name": "ipython",
        "version": 3
      },
      "file_extension": ".py",
      "mimetype": "text/x-python",
      "name": "python",
      "nbconvert_exporter": "python",
      "pygments_lexer": "ipython3",
      "version": "3.6.6"
    },
    "nbTranslate": {
      "displayLangs": [
        "en",
        "es"
      ],
      "hotkey": "alt-t",
      "langInMainMenu": true,
      "sourceLang": "es",
      "targetLang": "en",
      "useGoogleTranslate": true
    },
    "toc": {
      "nav_menu": {},
      "number_sections": true,
      "sideBar": true,
      "skip_h1_title": false,
      "title_cell": "Table of Contents",
      "title_sidebar": "Contents",
      "toc_cell": false,
      "toc_position": {},
      "toc_section_display": true,
      "toc_window_display": false
    },
    "colab": {
      "provenance": []
    }
  },
  "nbformat": 4,
  "nbformat_minor": 0
}